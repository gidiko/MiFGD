{
 "cells": [
  {
   "cell_type": "markdown",
   "metadata": {},
   "source": [
    "# `qutomo`: A toolkit for fast and scalable QST "
   ]
  },
  {
   "cell_type": "markdown",
   "metadata": {},
   "source": [
    "We briefly overview some of the key functionalities of `qutomo`. We solve the following optimization problem for QST:\n",
    "\n",
    "\\begin{equation}\\label{eq:obj}\n",
    "\\begin{aligned}\n",
    "& \\min_{\\rho \\in \\mathbb{C}^{d \\times d}}\n",
    "& & f(\\rho) := \\tfrac{1}{2} \\|\\mathcal{A}(\\rho) - y\\|_2^2 \\\\\n",
    "& \\text{subject to}\n",
    "& & \\rho \\succeq 0, ~\\texttt{rank}(\\rho) \\leq r.\n",
    "\\end{aligned}\n",
    "\\end{equation}\n",
    "\n",
    "The main idea is to factorize the density matrix $\\rho = UU^\\dagger$, which allows us to re-write the above optimization problem as:\n",
    "\n",
    "\\begin{equation}\\label{eq:factobj}\n",
    "\\min_{U \\in \\mathbb{C}^{d \\times r}} ~\\tfrac{1}{2} \\|\\mathcal{A}(UU^\\dagger) - y\\|_2^2.\n",
    "\\end{equation}\n",
    "\n",
    "Note that the (convex) PSD constraint $\\rho \\succeq 0$ and the (non-convex) rank constraint $\\texttt{rank}(\\rho) \\leq r$ are automatically satisfied through the factorization. "
   ]
  },
  {
   "cell_type": "code",
   "execution_count": 1,
   "metadata": {
    "jupyter": {
     "outputs_hidden": false
    }
   },
   "outputs": [],
   "source": [
    "import sys\n",
    "import os \n",
    "import warnings\n",
    "import numpy as np\n",
    "\n",
    "sys.path.append('../qutomo') \n",
    "warnings.filterwarnings(\"ignore\")\n"
   ]
  },
  {
   "cell_type": "code",
   "execution_count": 2,
   "metadata": {
    "jupyter": {
     "outputs_hidden": false
    }
   },
   "outputs": [],
   "source": [
    "import states\n",
    "import projectors\n",
    "import measurements\n",
    "import methods"
   ]
  },
  {
   "cell_type": "markdown",
   "metadata": {},
   "source": [
    "## Qubits"
   ]
  },
  {
   "cell_type": "markdown",
   "metadata": {},
   "source": [
    "We are going to reconstruct a 3-qubit state: GHZ(3)."
   ]
  },
  {
   "cell_type": "code",
   "execution_count": 3,
   "metadata": {
    "jupyter": {
     "outputs_hidden": false
    }
   },
   "outputs": [],
   "source": [
    "num_qubits = 3"
   ]
  },
  {
   "cell_type": "markdown",
   "metadata": {},
   "source": [
    "## Labels"
   ]
  },
  {
   "cell_type": "markdown",
   "metadata": {},
   "source": [
    "Let's generate some label combinations for the number we are given in order to start things moving. Each label combination represents a measurement circuit applied to the output of the quantum gates implementing the state we want to reconstruct. \n",
    "\n",
    "So there are `4^(num_labels)` possible labels, since any of the 4 Pauli operators `X`, `Y`, `Z`, `I` can be applied on each qubit. This means there are `4^3=64` possible labels for the case of 3-qubit quantum state.\n",
    "\n",
    "We utilize `50` out of the `64` possible measurement circuits in the reconstruction."
   ]
  },
  {
   "cell_type": "code",
   "execution_count": 4,
   "metadata": {
    "jupyter": {
     "outputs_hidden": false
    }
   },
   "outputs": [
    {
     "data": {
      "text/plain": [
       "array(['YXX', 'ZYX', 'IIX', 'ZYZ', 'ZZX', 'YXZ', 'XIX', 'XZY', 'XIY',\n",
       "       'XIZ', 'ZIY', 'ZII', 'YYZ', 'IZX', 'ZIX', 'XXX', 'XYX', 'XXZ',\n",
       "       'YIZ', 'IIZ', 'XXY', 'YIX', 'YYI', 'IYI', 'ZXY', 'ZXI', 'YYY',\n",
       "       'ZZY', 'III', 'IYY', 'IZI', 'YXI', 'IYX', 'ZXX', 'XYZ', 'ZIZ',\n",
       "       'XYY', 'ZYI', 'ZZI', 'YZI', 'IZZ', 'YZX', 'YXY', 'YII', 'IZY',\n",
       "       'XYI', 'IXY', 'IYZ', 'IXZ', 'YYX'], dtype='<U3')"
      ]
     },
     "execution_count": 4,
     "metadata": {},
     "output_type": "execute_result"
    }
   ],
   "source": [
    "num_labels = 50\n",
    "labels     = projectors.generate_random_label_list(num_labels, num_qubits)\n",
    "np.array(labels)"
   ]
  },
  {
   "cell_type": "markdown",
   "metadata": {},
   "source": [
    "## Circuits"
   ]
  },
  {
   "cell_type": "markdown",
   "metadata": {},
   "source": [
    "Now assuming a base GHZ circuit (state) over `num_qubits`, we now build and apply to it the measurement circuits corresponding to the labels above and then collect the measurement results. Each measurement circuit is applied `num_shots=100` times to the prepaperd quantum state. Measurements for each label, is the number of counts (out of `num_shots`) each of the `2^(num_qubits)` possible outputs (binary vectors) appear. In particular, each of the 'X', 'Y', 'Z' operators applied to a qubit can render 1 or -1 (encoded in binary as 0 or 1) as output. We use `qiskit` routines for this internally."
   ]
  },
  {
   "cell_type": "code",
   "execution_count": 5,
   "metadata": {
    "jupyter": {
     "outputs_hidden": false
    }
   },
   "outputs": [],
   "source": [
    "backend    = 'qasm_simulator'\n",
    "num_shots  = 100\n",
    "\n",
    "state = states.GHZState(num_qubits)\n",
    "state.create_circuit()\n",
    "data_dict_list = state.execute_measurement_circuits(labels, \n",
    "                                                    backend=backend, \n",
    "                                                    num_shots=num_shots)"
   ]
  },
  {
   "cell_type": "markdown",
   "metadata": {},
   "source": [
    "This is how one of the measurement looks like for one of the labels:"
   ]
  },
  {
   "cell_type": "code",
   "execution_count": 6,
   "metadata": {
    "jupyter": {
     "outputs_hidden": false
    }
   },
   "outputs": [
    {
     "data": {
      "text/plain": [
       "{'measurement_circuit_name': 'GHZ-IIX',\n",
       " 'circuit_name': 'GHZ',\n",
       " 'label': 'IIX',\n",
       " 'count_dict': {'000': 23, '110': 27, '001': 28, '111': 22},\n",
       " 'backend': 'qasm_simulator',\n",
       " 'num_shots': 100}"
      ]
     },
     "execution_count": 6,
     "metadata": {},
     "output_type": "execute_result"
    }
   ],
   "source": [
    "data_dict_list[2]"
   ]
  },
  {
   "cell_type": "markdown",
   "metadata": {},
   "source": [
    "## Measurements"
   ]
  },
  {
   "cell_type": "markdown",
   "metadata": {},
   "source": [
    "Count information from the Qiskit experiment are now organized in a `<label> : <dictionary-of-counts>` dictionary and fed into a MeasurementStore abstraction for storage. This can save count information in a list of `.pickle` files under a given directory (default option)."
   ]
  },
  {
   "cell_type": "code",
   "execution_count": 7,
   "metadata": {
    "jupyter": {
     "outputs_hidden": false
    }
   },
   "outputs": [],
   "source": [
    "measurement_dict = {item['label'] : item['count_dict'] for item in data_dict_list}"
   ]
  },
  {
   "cell_type": "code",
   "execution_count": 8,
   "metadata": {
    "jupyter": {
     "outputs_hidden": false
    }
   },
   "outputs": [],
   "source": [
    "measurement_store_path = 'data/measurements'\n",
    "if not os.path.exists(measurement_store_path):\n",
    "    os.makedirs(measurement_store_path)"
   ]
  },
  {
   "cell_type": "code",
   "execution_count": 9,
   "metadata": {
    "jupyter": {
     "outputs_hidden": false
    }
   },
   "outputs": [],
   "source": [
    "measurement_store = measurements.MeasurementStore(measurement_dict)\n",
    "measurement_store.save(measurement_store_path)"
   ]
  },
  {
   "cell_type": "markdown",
   "metadata": {},
   "source": [
    "## `Projectors`: Pauli string operators"
   ]
  },
  {
   "cell_type": "markdown",
   "metadata": {},
   "source": [
    "The labels are associated with Kronecker products of corresponding Pauli matrices (in the \"Pauli correlation measurements\" settings which is our focus). The resulting (sparse) matrices and their application logic (to quantum state vectors) is captured in storage-and-compute-efficient \"Projector\" objects: these are in fact \"Pauli string\" operators since they are not actually \"projectors\" in the mathematical sense. "
   ]
  },
  {
   "cell_type": "code",
   "execution_count": 10,
   "metadata": {
    "jupyter": {
     "outputs_hidden": false
    }
   },
   "outputs": [],
   "source": [
    "projector_store_path   = 'data/projectors'\n",
    "if not os.path.exists(projector_store_path):\n",
    "    os.makedirs(projector_store_path)"
   ]
  },
  {
   "cell_type": "code",
   "execution_count": 11,
   "metadata": {
    "jupyter": {
     "outputs_hidden": false
    }
   },
   "outputs": [],
   "source": [
    "projector_store = projectors.ProjectorStore(labels)\n",
    "projector_store.populate(projector_store_path)"
   ]
  },
  {
   "cell_type": "markdown",
   "metadata": {},
   "source": [
    "## State reconstruction using MiFGD in `qutomo`"
   ]
  },
  {
   "cell_type": "markdown",
   "metadata": {},
   "source": [
    "We now run `MiFGD` algorithm as implemented in `qutomo`. \n",
    "\n",
    "To solve \n",
    "\n",
    "\\begin{equation}\\label{eq:factobj}\n",
    "\\min_{U \\in \\mathbb{C}^{d \\times r}} ~\\tfrac{1}{2} \\|\\mathcal{A}(UU^\\dagger) - y\\|_2^2,\n",
    "\\end{equation}\n",
    "\n",
    "`MiFGD` iterates as follows:\n",
    "\n",
    "\\begin{align}\n",
    "U_{i+1} &= Z_{i} - \\eta \\mathcal{A}^\\dagger \\left(\\mathcal{A}(Z_i Z_i^\\dagger) - y\\right) \\cdot Z_i, \\label{eq:MiFGD1}\\\\\n",
    "Z_{i+1} &= U_{i+1} + \\mu \\left(U_{i+1} - U_i\\right), \\label{eq:MiFGD2}\n",
    "\\end{align}\n",
    "\n",
    "where $\\eta$ is the step size, and $\\mu$ is the momentum parameter. `MiFGD` essentially applies Nesterov's acceleration technique to factored gradient descent:\n",
    "\n",
    "\\begin{align}\n",
    "U_{i+1} &= U_{i} - \\eta \\nabla f(U_i U_i^\\dagger) \\cdot U_i \\\\ &= U_{i} - \\eta \\mathcal{A}^\\dagger \\left(\\mathcal{A}(U_i U_i^\\dagger) - y\\right) \\cdot U_i.\n",
    "\\end{align}\n",
    "\n",
    "\n",
    "This amounts to instantiating a `Worker` object - passing a dictionary to the constructor - and then inspecting its attributes, its `state` attribute in particular. We do not use acceleration in the example that follows. "
   ]
  },
  {
   "cell_type": "code",
   "execution_count": 12,
   "metadata": {
    "jupyter": {
     "outputs_hidden": false
    }
   },
   "outputs": [
    {
     "name": "stdout",
     "output_type": "stream",
     "text": [
      "Loading projectors\n",
      "50 projectors loaded\n",
      "Projectors ready to compute with\n",
      "Loading measurements\n",
      "50 measurements loaded\n",
      "Measurements ready to compute with\n",
      "0\n"
     ]
    }
   ],
   "source": [
    "params_dict = {'measurement_store_path' : measurement_store_path,\n",
    "               'projector_store_path'   : projector_store_path,\n",
    "               'num_iterations'         : 1000,\n",
    "               'eta'                    : 0.01,\n",
    "               'mu'                     : 3/4,\n",
    "               'n'                      : num_qubits,\n",
    "               'num_labels'             : num_labels,\n",
    "               'backend'                : backend,\n",
    "               'num_shots'              : num_shots}\n",
    "\n",
    "worker = methods.BasicWorker(params_dict)\n",
    "worker.compute()"
   ]
  },
  {
   "cell_type": "code",
   "execution_count": 13,
   "metadata": {
    "jupyter": {
     "outputs_hidden": false
    }
   },
   "outputs": [
    {
     "data": {
      "text/plain": [
       "array([ 0.51649538+0.5428912j , -0.05813457-0.0152255j ,\n",
       "        0.03951011+0.02516188j, -0.00360798-0.04711863j,\n",
       "       -0.08842709-0.09786172j, -0.03859884-0.01905852j,\n",
       "       -0.03483823+0.01419006j,  0.43891309+0.46599758j])"
      ]
     },
     "execution_count": 13,
     "metadata": {},
     "output_type": "execute_result"
    }
   ],
   "source": [
    "reconstructed_state = worker.state\n",
    "reconstructed_state"
   ]
  },
  {
   "cell_type": "code",
   "execution_count": 14,
   "metadata": {
    "jupyter": {
     "outputs_hidden": false
    }
   },
   "outputs": [],
   "source": [
    "reconstructed_density_matrix = np.outer(reconstructed_state, reconstructed_state.T.conj())"
   ]
  },
  {
   "cell_type": "markdown",
   "metadata": {},
   "source": [
    "What about the density_matrix we are trying to get to? Actually we can also get if from the circuit we set out to work with (see previously):"
   ]
  },
  {
   "cell_type": "code",
   "execution_count": 15,
   "metadata": {
    "jupyter": {
     "outputs_hidden": false
    }
   },
   "outputs": [
    {
     "name": "stderr",
     "output_type": "stream",
     "text": [
      "/Users/jlylekim/opt/anaconda3/envs/mifgd/lib/python3.8/site-packages/qiskit/tools/qi/qi.py:355: DeprecationWarning: This function is deprecated and will be removed in a future release. Please use `numpy.outer` function for similar functionality.\n",
      "  warnings.warn(\n"
     ]
    }
   ],
   "source": [
    "target = states.GHZState(num_qubits)\n",
    "target.create_circuit()\n",
    "target_density_matrix = target.get_state_matrix()"
   ]
  },
  {
   "cell_type": "markdown",
   "metadata": {},
   "source": [
    "Are the two states close to each other? Let's import the fidelity routine from `qiskit` and apply it"
   ]
  },
  {
   "cell_type": "code",
   "execution_count": 16,
   "metadata": {
    "jupyter": {
     "outputs_hidden": false
    }
   },
   "outputs": [],
   "source": [
    "from qiskit.quantum_info import state_fidelity"
   ]
  },
  {
   "cell_type": "code",
   "execution_count": 17,
   "metadata": {
    "jupyter": {
     "outputs_hidden": false
    }
   },
   "outputs": [
    {
     "data": {
      "text/plain": [
       "0.9653309577706775"
      ]
     },
     "execution_count": 17,
     "metadata": {},
     "output_type": "execute_result"
    }
   ],
   "source": [
    "state_fidelity(target_density_matrix,\n",
    "               reconstructed_density_matrix,\n",
    "               validate=False)"
   ]
  },
  {
   "cell_type": "code",
   "execution_count": null,
   "metadata": {
    "jupyter": {
     "outputs_hidden": false
    }
   },
   "outputs": [],
   "source": []
  }
 ],
 "metadata": {
  "kernelspec": {
   "display_name": "Python 3",
   "language": "python",
   "name": "python3"
  },
  "language_info": {
   "codemirror_mode": {
    "name": "ipython",
    "version": 3
   },
   "file_extension": ".py",
   "mimetype": "text/x-python",
   "name": "python",
   "nbconvert_exporter": "python",
   "pygments_lexer": "ipython3",
   "version": "3.8.2"
  },
  "name": "qutomo_example.ipynb"
 },
 "nbformat": 4,
 "nbformat_minor": 4
}
